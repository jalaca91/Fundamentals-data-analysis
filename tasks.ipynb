{
 "cells": [
  {
   "cell_type": "markdown",
   "metadata": {},
   "source": [
    "# Fundamentals of Data Analysis Tasks\n",
    "\n",
    "Jaime Lara Carrillo\n",
    "\n",
    "***"
   ]
  },
  {
   "cell_type": "markdown",
   "metadata": {},
   "source": [
    "This jupyter notebook contains the assignments belonging to the module: Fundamentals of Data Analysis of the ATU Galway HDip in Data Analysis."
   ]
  },
  {
   "cell_type": "markdown",
   "metadata": {},
   "source": [
    "# Task 1\n",
    "\n",
    "The Collatz conjecture1 is a famous unsolved problem in mathemathics. The problem is to prove that if you start with any positive\n",
    "integer x and repeatedly apply the function f(x) below, you always get stuck in the repeating sequence 1, 4, 2, 1, 4, 2,...\n",
    "\n",
    "\n",
    "$ f(x) = \\begin{cases}\n",
    "x/2 & \\text{if } x \\text{ is even} \\\\\n",
    "3x + 1 & \\text{otherwise}\n",
    "\\end{cases} $"
   ]
  },
  {
   "cell_type": "markdown",
   "metadata": {},
   "source": [
    "The task is to verify, using Python, that the conjecture is true for the first 10,000 positive integers."
   ]
  },
  {
   "cell_type": "code",
   "execution_count": null,
   "metadata": {},
   "outputs": [],
   "source": [
    "def f(x):\n",
    "    # If x is even, divide it by two\n",
    "    if x % 2 == 0:\n",
    "        return x / 2\n",
    "    else:\n",
    "        return (3 * x) + 1\n",
    "\n"
   ]
  },
  {
   "cell_type": "code",
   "execution_count": null,
   "metadata": {},
   "outputs": [],
   "source": [
    "def collatz(x):\n",
    "    while x != 1:\n",
    "        print(x, end=\" , \")\n",
    "        x = f(x)\n",
    "    print(x)\n",
    "\n",
    "\n"
   ]
  },
  {
   "cell_type": "code",
   "execution_count": null,
   "metadata": {},
   "outputs": [],
   "source": [
    "collatz(10000)  #  In the parenthesis the number we started the loop with"
   ]
  },
  {
   "cell_type": "markdown",
   "metadata": {},
   "source": [
    "***"
   ]
  },
  {
   "cell_type": "markdown",
   "metadata": {},
   "source": [
    "# Task 2\n",
    "\n",
    "Give an overview of the penguins data set, explaining the types of variables it contains. Suggest the types of variables\n",
    "that should be used to model them in Python, explaining your rationale.\n",
    "\n",
    "\n"
   ]
  },
  {
   "cell_type": "markdown",
   "metadata": {},
   "source": [
    "The  penguins data set is an alternative to the famous iris data set, in which data were collected for three species of penguins inhabiting the Palmer Archipelago, composed of 3 islands.\n",
    "These data were collected from 2007 - 2009 by Dr. Kristen Gorman with the \n",
    "Palmer Station Long Term Ecological Research Program, part of the US Long Term Ecological Research Network.\n",
    "The publication can be found at the following link:\n",
    "\n",
    "https://www.uaf.edu/cfos/people/faculty/detail/kristen-gorman.php"
   ]
  },
  {
   "cell_type": "markdown",
   "metadata": {},
   "source": [
    "Here I attach a characteristic image of the head of the penguins in this set:\n",
    "\n"
   ]
  },
  {
   "cell_type": "markdown",
   "metadata": {},
   "source": [
    "![PENGUINS 2.png](<C:\\Users\\Jaila\\Downloads\\PENGUINS 2.png)"
   ]
  },
  {
   "cell_type": "markdown",
   "metadata": {},
   "source": [
    "The penguins data set is a multivariate data set, consisting of the following elements:\n",
    "\n",
    "A sample of n = 344 penguins, divided into 3 species:  \n",
    "\n",
    "| species   |\n",
    "| --------- | \n",
    "| Gentoo    |\n",
    "| Adélie    |\n",
    "| Chinstrap |  \n",
    "\n"
   ]
  },
  {
   "cell_type": "markdown",
   "metadata": {},
   "source": [
    "Three islands:  \n",
    "\n",
    "\n",
    "| island    | \n",
    "| --------- | \n",
    "| Biscoe    | \n",
    "| Dream     | \n",
    "| Torgesen  |   \n"
   ]
  },
  {
   "cell_type": "markdown",
   "metadata": {},
   "source": [
    "2 sexes:  \n",
    "\n",
    "| sex    |\n",
    "| ------ |\n",
    "| Male   |\n",
    "| Female |\n"
   ]
  },
  {
   "cell_type": "markdown",
   "metadata": {},
   "source": [
    "It also contains the following numerical data indicating different sizes measurements:  \n",
    "\n",
    "| bill_length_mm | bill_depth_mm | flipper_length_mm | body_mass_g |\n",
    "| -------------- | ------------- | ----------------- | ----------- |\n"
   ]
  },
  {
   "cell_type": "markdown",
   "metadata": {},
   "source": [
    "We therefore have a total of 7 variables at our disposal. Now we are going to analyse what type of variable each is:\n",
    "\n",
    "1. **species** : This is a nominal (also known as discrete or qualitative) categorical variable. It represents different species of penguins.\n",
    "                As there are three species (Gentoo, Adelie and Chinstrap), this variable has more than two categories.\n",
    "                It also has no intrinsic order, as it only shows different categories regardless of their mathematical value. \n",
    "\n",
    "2. **island**: Categorical nominal variable. It indicates the island where each penguin is found. Like \"species,\" it is a categorical nominal\n",
    "               variable that represents different categories without a specific order.\n",
    "\n",
    "3. **sex** : This is a categorical and dichotomous vaiable. The dichotomous variables only have two categories or levels, in this case male or female.\n",
    "\n",
    "4. **bill_length_mm** : This is a continous(also called quantitative variable) and interval variable, allowing for a range of values within the\n",
    "                        measurements taken. The differences between measurements hold meaning(one is bigger than another).\n",
    "                        This represents the length of a penguin's beak, measured in millimeters. \n",
    "5. **bill_depth_mm**  : This variable has the same nature than the previous one.\n",
    "                        It indicates the depth of the penguin's beak, measured in millimeters. \n",
    "6. **flipper_length_mm**  : This variable has the same nature than the previous one.\n",
    "                            Ths refers to the length of a penguin's flipper, measured in millimeters.\n",
    "7. **body_mass_g**  :  This is a continous and ratio variable. unlike the previous variables, a value of 0 means that a penguin has no weight, nor    \n",
    "                        can it take negative values. Furthermore, this variable is measured in grams as a unit of weight, not in millimeters as a unit of length.                        \n"
   ]
  },
  {
   "cell_type": "markdown",
   "metadata": {},
   "source": [
    "\t***\t\t\n"
   ]
  }
 ],
 "metadata": {
  "kernelspec": {
   "display_name": "base",
   "language": "python",
   "name": "python3"
  },
  "language_info": {
   "codemirror_mode": {
    "name": "ipython",
    "version": 3
   },
   "file_extension": ".py",
   "mimetype": "text/x-python",
   "name": "python",
   "nbconvert_exporter": "python",
   "pygments_lexer": "ipython3",
   "version": "3.10.13"
  }
 },
 "nbformat": 4,
 "nbformat_minor": 2
}
