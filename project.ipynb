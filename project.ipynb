{
 "cells": [
  {
   "cell_type": "markdown",
   "metadata": {},
   "source": [
    "# Fundamentals of Data Analysis Project\n",
    "\n",
    "Jaime Lara Carrillo\n",
    "\n",
    "***"
   ]
  },
  {
   "cell_type": "markdown",
   "metadata": {},
   "source": [
    "This jupyter notebook contains the project from the module: Fundamentals of Data Analysis from ATU Galway's HDip in Data Analysis."
   ]
  },
  {
   "cell_type": "markdown",
   "metadata": {},
   "source": [
    "# Iris Fisher Data Set"
   ]
  },
  {
   "cell_type": "markdown",
   "metadata": {},
   "source": [
    "## Index\n",
    "\n",
    "1. [Description](#description)\n",
    "2. [Project stages and organisation](#project-stages-and-organisation)  \n",
    "3. [Used tools and libraries](#used-tools-and-libraries)  \n",
    "4. [Data collection](#data-collection)  \n",
    "5. [Data analysis](#data-analysis)  \n",
    "      5.1 [Import and cleaning data](#import-and-cleaning-data)  \n",
    "6. [Data visualization](#data-visualization)  \n",
    "      6.1 [Correlation](#correlation)\n",
    "7. [Conclusions of the project](#conclusions-of-the-project)\n",
    "8. [References](#references)\n",
    "      "
   ]
  },
  {
   "cell_type": "markdown",
   "metadata": {},
   "source": [
    "***"
   ]
  },
  {
   "cell_type": "markdown",
   "metadata": {},
   "source": [
    " ## Description"
   ]
  },
  {
   "cell_type": "markdown",
   "metadata": {},
   "source": [
    "This project consists of analysing and investigating a multivariate dataset introduced\n",
    "by Ronald Fisher in his 1936 paper,_The use of multiple measurements in taxonomic problems_.  \n",
    "Although published by Fisher, the data was orignally collected by American botanist, Edgar Anderson,and thats why this is sometimes called Anderson's Iris data set.  \n",
    "Most of the samples where collected on the same day and in the same area (two of the three species).\n",
    "\n",
    "This famous dataset could be the ABC of machine learning and data analysis.  \n",
    "\n",
    "The Iris dataset consists of three species of Iris flowers and 50 samples of each species, giving a sample of a total of 150 records under five attributes, which are:\n",
    "1. Sepal length(cm)\n",
    "2. Sepal width(cm)\n",
    "3. Petal length(cm)\n",
    "4. Petal width(cm)\n",
    "5. Class.\n",
    "\n",
    "The features of this sample are shown in the following image:\n",
    "\n",
    "![image](https://user-images.githubusercontent.com/110190460/234045122-186ab79b-4fbc-4065-ac3e-017c0e1b97ee.png)"
   ]
  },
  {
   "cell_type": "markdown",
   "metadata": {},
   "source": [
    "The species are: Setosa, Versicolor and Virginica.  \n",
    "\n",
    "![image](https://user-images.githubusercontent.com/110190460/234044887-5cf5d38c-8ac7-4846-98d3-bbc213e6f32a.png)"
   ]
  },
  {
   "cell_type": "markdown",
   "metadata": {},
   "source": [
    "This makes it a multivariate data set, which means that there are two or more variable quantities.\n",
    "As can be seen, despite having a similar shade of colour, these flowers have different attributes in terms\n",
    "of the length of their petals and sepals, which in this project are collected in a file with .csv extension, used by the excel spreadsheet."
   ]
  },
  {
   "cell_type": "markdown",
   "metadata": {},
   "source": [
    "As mentioned above, the dataset is composed of 150 observations, divided into 50 observations for each type of flower, with a series of characteristics.  \n",
    "The variables are classified as follows:\n",
    "1. Sepal Length: this represents the length of the flower sepal.\n",
    "2. Sepal Width: Represents the width of the sepal of the flower.\n",
    "3. Petal Length: Represents the length of the petal of the flower.\n",
    "4. Petal Width: Represents the width of the petal of the flower.\n",
    "\n",
    "These variables represent numerical measurements that can take values in a continuous range, therefore they are considered quantitative variables of continuous and intervalic character.  \n",
    "On this scale, differences between values are significant and mathematical operations can be performed, but there is no \"absolute zero\" (a petal length of 0 does not mean absence of petal)."
   ]
  },
  {
   "cell_type": "markdown",
   "metadata": {},
   "source": [
    "***"
   ]
  },
  {
   "cell_type": "markdown",
   "metadata": {},
   "source": [
    "## Project stages and organisation"
   ]
  },
  {
   "cell_type": "markdown",
   "metadata": {},
   "source": [
    "The steps of this project can be divided into the following tasks: \n",
    "* Show which technologies and tools will be used\n",
    "* Obtain the dataset and download it\n",
    "* Import the dataset to the integrated development environment (IDE) \n",
    "* Review the dataset and avoid incorrect or incomplete data\n",
    "* Different statistical analyses of the data obtained\n",
    "* Show graphically the result of the previous analysis\n",
    "* Drawing a conclusion from the research carried out\n",
    "* References used in the elaboration of the project"
   ]
  },
  {
   "cell_type": "markdown",
   "metadata": {},
   "source": [
    "\n",
    "**The project consists of the following files**:  \n",
    "\n",
    "This notebook file contains the entire project, its development and analysis.  \n",
    "The images and the database can be found in the corresponding folders.\n"
   ]
  },
  {
   "cell_type": "markdown",
   "metadata": {},
   "source": [
    "___\n",
    "\n",
    "## Used tools and libraries"
   ]
  },
  {
   "cell_type": "markdown",
   "metadata": {},
   "source": [
    "\n",
    "**The project uses the following technologies**:\n",
    "\n",
    "* Python version 3.10.13 as programming language\n",
    "* Excel spreadsheet for the imported data\n",
    "* Visual Studio Code as the Integrated development environment \n",
    "* Jupyter notebook as the folder which contains all the project"
   ]
  },
  {
   "cell_type": "markdown",
   "metadata": {},
   "source": [
    "**The project uses the following libraries**:"
   ]
  },
  {
   "cell_type": "markdown",
   "metadata": {},
   "source": [
    "* Numpy  \n",
    "Is used for numerical computation that allows you to work with large, multi-dimensional arrays and matrices of numerical data. It provides a wide range of mathematical functions to operate on these arrays, making it an essential tool for scientific computing, data analysis, and machine learning.  \n",
    "To find out more:  \n",
    "https://numpy.org/  \n",
    "\n",
    "  \n",
    "* Matplotlib  \n",
    "Is a plotting library for the Python programming language that provides a wide variety of high-quality 2D and 3D graphs and plots.  \n",
    "More of this:  \n",
    "https://matplotlib.org/  \n",
    "\n",
    "\n",
    "* Seaborn  \n",
    "Is a data visualization library in Python built on top of Matplotlib.  \n",
    "It provides a high-level interface for creating informative and statistical graphics.  \n",
    "https://seaborn.pydata.org/  \n",
    " \n",
    " \n",
    "* Pandas  \n",
    "Is a fast, powerful, flexible and easy to use open source data analysis and manipulation tool, built on top of the Python programming language.\n",
    "https://pandas.pydata.org/  \n",
    " "
   ]
  },
  {
   "cell_type": "markdown",
   "metadata": {},
   "source": [
    "Therefore, the totality of the libraries used is as follows:  \n",
    "\n",
    "```python\n",
    "import numpy as np\n",
    "import matplotlib.pyplot as plt\n",
    "import seaborn as sns\n",
    "import pandas as pd\n",
    "```"
   ]
  },
  {
   "cell_type": "markdown",
   "metadata": {},
   "source": [
    "___\n",
    "\n",
    "## Data collection"
   ]
  },
  {
   "cell_type": "markdown",
   "metadata": {},
   "source": [
    "To obtain the dataset we can go to the following link:  \n",
    "https://archive.ics.uci.edu/dataset/53/iris  \n",
    "\n",
    "However, the file is in .txt format and it has no header, so a number of transformations have to be made to it.  \n",
    "To simplify things and given the huge popularity of this dataset, you can find the data already with a header and in a different  \n",
    "format, such as csv. An example is in the following link:  \n",
    "https://datahub.io/machine-learning/iris#resource-iris  \n",
    "I used the snake case before importing the data set just to gave a clearer name to the characteristics of each flower.  \n",
    "Once downloaded, the iris flower database is saved in the database folder (files\\database\\iris_csv.csv).  "
   ]
  },
  {
   "cell_type": "markdown",
   "metadata": {},
   "source": [
    "***"
   ]
  },
  {
   "cell_type": "markdown",
   "metadata": {},
   "source": [
    "## Data analysis\n",
    "\n",
    "#### Import and cleaning data\n",
    "Now that the data has been imported, it is important to perform a data cleansing, to remove files that may influence  \n",
    "the result of our analysis, i.e. corrupted data, empty cells, duplicates, incorrect data.  \n",
    "First of all, in the .py file containing our script it is necessary to import the libraries mentioned above to obtain these new functionalities.  "
   ]
  },
  {
   "cell_type": "code",
   "execution_count": 1,
   "metadata": {},
   "outputs": [],
   "source": [
    "import numpy as np\n",
    "import matplotlib.pyplot as plt\n",
    "import seaborn as sns\n",
    "import pandas as pd "
   ]
  },
  {
   "cell_type": "markdown",
   "metadata": {},
   "source": [
    "To suppress certain warnings if you are sure that the code works correctly and the warnings are not critical:"
   ]
  },
  {
   "cell_type": "code",
   "execution_count": 2,
   "metadata": {},
   "outputs": [],
   "source": [
    "import warnings\n",
    "warnings.filterwarnings(\"ignore\")"
   ]
  },
  {
   "cell_type": "markdown",
   "metadata": {},
   "source": [
    "Once we import the libraries, we read the file named \"iris_csv\" into a Pandas Dataframe named \"df\", to access the information it contains.  "
   ]
  },
  {
   "cell_type": "code",
   "execution_count": 3,
   "metadata": {},
   "outputs": [],
   "source": [
    "df = pd.read_csv(\"files\\database\\iris_csv.csv\")  "
   ]
  },
  {
   "cell_type": "markdown",
   "metadata": {},
   "source": [
    "Before working with the data frame, it is necessary to do a data cleaning, as the following problems may arise:\n",
    "1. Null files\n",
    "2. Corrupt or atypical files\n",
    "3. Repeated files\n",
    "4. Incompatible files"
   ]
  },
  {
   "cell_type": "markdown",
   "metadata": {},
   "source": [
    "This is a crucial process in data analysis to improve data quality and reliability for analysis. \n",
    "It is important for the following reasons:\n",
    "1. Reliability of results: Clean data ensures that analyses and models are based on accurate and consistent information, leading to more reliable conclusions.\n",
    "2. Improved accuracy: By eliminating erroneous or inconsistent data, accuracy metrics in models and analyses are improved.\n",
    "3. Facilitates visualization: Clean data facilitates the creation of clear and understandable visualizations, which helps identify patterns and trends effectively.\n"
   ]
  },
  {
   "cell_type": "markdown",
   "metadata": {},
   "source": [
    "A quick way to get general information about the structure and content of the DataFrame is to use the .info() method, which provides an informative summary."
   ]
  },
  {
   "cell_type": "code",
   "execution_count": 4,
   "metadata": {},
   "outputs": [
    {
     "name": "stdout",
     "output_type": "stream",
     "text": [
      "<class 'pandas.core.frame.DataFrame'>\n",
      "RangeIndex: 150 entries, 0 to 149\n",
      "Data columns (total 5 columns):\n",
      " #   Column        Non-Null Count  Dtype  \n",
      "---  ------        --------------  -----  \n",
      " 0   sepal_length  150 non-null    float64\n",
      " 1   sepal_width   150 non-null    float64\n",
      " 2   petal_length  150 non-null    float64\n",
      " 3   petal_width   150 non-null    float64\n",
      " 4   class         150 non-null    object \n",
      "dtypes: float64(4), object(1)\n",
      "memory usage: 6.0+ KB\n",
      "None\n"
     ]
    }
   ],
   "source": [
    "info_iris_db = df.info()\n",
    "print(info_iris_db)"
   ]
  },
  {
   "cell_type": "markdown",
   "metadata": {},
   "source": [
    "The code shows us details such as the number of rows, the number of columns, the types of data in each column and how much memory is being used.  \n",
    "\n",
    "As for the objective of checking for empty values, it indicates non-null, so the df is complete and without corrupted bits of data."
   ]
  },
  {
   "cell_type": "markdown",
   "metadata": {},
   "source": [
    "You can also see which values are repeated:"
   ]
  },
  {
   "cell_type": "code",
   "execution_count": 5,
   "metadata": {},
   "outputs": [
    {
     "name": "stdout",
     "output_type": "stream",
     "text": [
      "0      False\n",
      "1      False\n",
      "2      False\n",
      "3      False\n",
      "4      False\n",
      "       ...  \n",
      "145    False\n",
      "146    False\n",
      "147    False\n",
      "148    False\n",
      "149    False\n",
      "Length: 150, dtype: bool\n"
     ]
    }
   ],
   "source": [
    "duplicates = df.duplicated()\n",
    "print(duplicates)"
   ]
  },
  {
   "cell_type": "markdown",
   "metadata": {},
   "source": [
    "The result only shows the first and last rows, so with the .sum() method to count the number of True (duplicated rows) in that series."
   ]
  },
  {
   "cell_type": "code",
   "execution_count": 6,
   "metadata": {},
   "outputs": [
    {
     "name": "stdout",
     "output_type": "stream",
     "text": [
      "The number of duplicate rows is: 3\n"
     ]
    }
   ],
   "source": [
    "duplicate_count = duplicates.sum()\n",
    "print(f\"The number of duplicate rows is: {duplicate_count}\")"
   ]
  },
  {
   "cell_type": "markdown",
   "metadata": {},
   "source": [
    "Since these are data pertaining to physical characteristics, it may be common for the same type of flower to have the same size of petal."
   ]
  },
  {
   "cell_type": "markdown",
   "metadata": {},
   "source": [
    "For atypical values, with the .describe() method, you obtain descriptive statistics, such as mean, standard deviation, minimum, maximum, and percentiles, which could indicate the presence of outliers."
   ]
  },
  {
   "cell_type": "code",
   "execution_count": 7,
   "metadata": {},
   "outputs": [
    {
     "name": "stdout",
     "output_type": "stream",
     "text": [
      "       sepal_length  sepal_width  petal_length  petal_width\n",
      "count    150.000000   150.000000    150.000000   150.000000\n",
      "mean       5.843333     3.054000      3.758667     1.198667\n",
      "std        0.828066     0.433594      1.764420     0.763161\n",
      "min        4.300000     2.000000      1.000000     0.100000\n",
      "25%        5.100000     2.800000      1.600000     0.300000\n",
      "50%        5.800000     3.000000      4.350000     1.300000\n",
      "75%        6.400000     3.300000      5.100000     1.800000\n",
      "max        7.900000     4.400000      6.900000     2.500000\n"
     ]
    }
   ],
   "source": [
    "statistics_summary= df.describe()\n",
    "print(statistics_summary)"
   ]
  },
  {
   "cell_type": "markdown",
   "metadata": {},
   "source": [
    "The explanation of these qualities is as follows:\n",
    "1. The mean is a measure of central tendency of a finite set of numbers: specifically, the sum of the values divided by the number of values.\n",
    "2. The standard deviation is a measure of the amount of variation or dispersion of a set of values.\n",
    "3. Min is the smallest value in the set of values.\n",
    "4. Max is the biggest value in the set of values. Percentile 25% is the value at which 25% of the answers lie below that value.\n",
    "5. Percentile 75% lie above that value. Percentile 50%(also known as the Median). The median cuts the data set in half."
   ]
  },
  {
   "cell_type": "markdown",
   "metadata": {},
   "source": [
    "Looking at the data, outliers can be ruled out. Therefore, the cleaning phase can be concluded and we proceed to the data analysis phase."
   ]
  },
  {
   "cell_type": "markdown",
   "metadata": {},
   "source": [
    "The **statistics_summary** gives us an overview of the attributes of our flowers, however, it is data that aggregates all 3 flower species, so it is interesting to perform the same basic analysis for each flower variety."
   ]
  },
  {
   "cell_type": "markdown",
   "metadata": {},
   "source": [
    "For this, we will obtain 3 dataframes from the main one and each dataframe, using the DataFrame.loc"
   ]
  },
  {
   "cell_type": "code",
   "execution_count": 8,
   "metadata": {},
   "outputs": [],
   "source": [
    "# We acces the rows where the value in the \"class\" column is equal to \"Iris-setosa\"  \n",
    "\n",
    "iris_setosadf=df.loc[df[\"class\"]==\"Iris-setosa\"] "
   ]
  },
  {
   "cell_type": "code",
   "execution_count": 9,
   "metadata": {},
   "outputs": [],
   "source": [
    "# We acces the rows where the value in the \"class\" column is equal to \"Iris-versicolor\"  \n",
    "\n",
    "iris_versicolordf=df.loc[df[\"class\"]==\"Iris-versicolor\"] "
   ]
  },
  {
   "cell_type": "code",
   "execution_count": 10,
   "metadata": {},
   "outputs": [],
   "source": [
    "# We acces the rows where the value in the \"class\" column is equal to \"Iris-virginica\"  \n",
    "\n",
    "iris_virginicadf=df.loc[df[\"class\"]==\"Iris-virginica\"]  "
   ]
  },
  {
   "cell_type": "markdown",
   "metadata": {},
   "source": [
    "Now that there are 3 dataframes for each flower species, a description can be applied to each flower."
   ]
  },
  {
   "cell_type": "code",
   "execution_count": 11,
   "metadata": {},
   "outputs": [
    {
     "name": "stdout",
     "output_type": "stream",
     "text": [
      "       sepal_length  sepal_width  petal_length  petal_width\n",
      "count      50.00000    50.000000     50.000000     50.00000\n",
      "mean        5.00600     3.418000      1.464000      0.24400\n",
      "std         0.35249     0.381024      0.173511      0.10721\n",
      "min         4.30000     2.300000      1.000000      0.10000\n",
      "25%         4.80000     3.125000      1.400000      0.20000\n",
      "50%         5.00000     3.400000      1.500000      0.20000\n",
      "75%         5.20000     3.675000      1.575000      0.30000\n",
      "max         5.80000     4.400000      1.900000      0.60000\n"
     ]
    }
   ],
   "source": [
    "statistics_setosa= iris_setosadf.describe()\n",
    "print(statistics_setosa)"
   ]
  },
  {
   "cell_type": "markdown",
   "metadata": {},
   "source": [
    "This shows us for each single flower variable, in this case setosa, the mean, standard deviation and other statistical characteristics.  \n",
    "The same applies to versicolor:"
   ]
  },
  {
   "cell_type": "code",
   "execution_count": 12,
   "metadata": {},
   "outputs": [
    {
     "name": "stdout",
     "output_type": "stream",
     "text": [
      "       sepal_length  sepal_width  petal_length  petal_width\n",
      "count     50.000000    50.000000     50.000000    50.000000\n",
      "mean       5.936000     2.770000      4.260000     1.326000\n",
      "std        0.516171     0.313798      0.469911     0.197753\n",
      "min        4.900000     2.000000      3.000000     1.000000\n",
      "25%        5.600000     2.525000      4.000000     1.200000\n",
      "50%        5.900000     2.800000      4.350000     1.300000\n",
      "75%        6.300000     3.000000      4.600000     1.500000\n",
      "max        7.000000     3.400000      5.100000     1.800000\n"
     ]
    }
   ],
   "source": [
    "statistics_versicolor= iris_versicolordf.describe()\n",
    "print(statistics_versicolor)"
   ]
  },
  {
   "cell_type": "markdown",
   "metadata": {},
   "source": [
    "And for virginica:"
   ]
  },
  {
   "cell_type": "code",
   "execution_count": 13,
   "metadata": {},
   "outputs": [
    {
     "name": "stdout",
     "output_type": "stream",
     "text": [
      "       sepal_length  sepal_width  petal_length  petal_width\n",
      "count      50.00000    50.000000     50.000000     50.00000\n",
      "mean        6.58800     2.974000      5.552000      2.02600\n",
      "std         0.63588     0.322497      0.551895      0.27465\n",
      "min         4.90000     2.200000      4.500000      1.40000\n",
      "25%         6.22500     2.800000      5.100000      1.80000\n",
      "50%         6.50000     3.000000      5.550000      2.00000\n",
      "75%         6.90000     3.175000      5.875000      2.30000\n",
      "max         7.90000     3.800000      6.900000      2.50000\n"
     ]
    }
   ],
   "source": [
    "statistics_virginica = iris_virginicadf.describe()\n",
    "print(statistics_virginica)"
   ]
  },
  {
   "cell_type": "markdown",
   "metadata": {},
   "source": [
    "After obtaining the basic statistical parameters of our 3 classes of flowers, a data that I consider interesting is to group the means of the 3 classes of their 4 attributes(sepal_length sepal_width petal_length and petal_width), in order to facilitate the comparison of these data.  \n",
    "To do this again we use a feature of the Pandas library, called dataframe groupby method()"
   ]
  },
  {
   "cell_type": "code",
   "execution_count": 14,
   "metadata": {},
   "outputs": [],
   "source": [
    "mean_df = df.groupby(\"class\").mean().transpose() "
   ]
  },
  {
   "cell_type": "markdown",
   "metadata": {},
   "source": [
    "With this line of code we manage to calculate the mean of each column that has the value \"class\" and store it in a new variable  \n",
    "called mean_df where the values are transposed(they go from rows to columns).  \n",
    "\n",
    "It allows us to compare this attribute more easily and the result looks like this:"
   ]
  },
  {
   "cell_type": "code",
   "execution_count": 15,
   "metadata": {},
   "outputs": [
    {
     "name": "stdout",
     "output_type": "stream",
     "text": [
      "class         Iris-setosa  Iris-versicolor  Iris-virginica\n",
      "sepal_length        5.006            5.936           6.588\n",
      "sepal_width         3.418            2.770           2.974\n",
      "petal_length        1.464            4.260           5.552\n",
      "petal_width         0.244            1.326           2.026\n"
     ]
    }
   ],
   "source": [
    "print(mean_df)"
   ]
  },
  {
   "cell_type": "markdown",
   "metadata": {},
   "source": [
    "To look at the size of the plant attributes in more detail, we can also group the min and max values using the same method.\n",
    "\n",
    "For minimum values:"
   ]
  },
  {
   "cell_type": "code",
   "execution_count": 16,
   "metadata": {},
   "outputs": [],
   "source": [
    "min_df = df.groupby(\"class\").min().transpose() "
   ]
  },
  {
   "cell_type": "markdown",
   "metadata": {},
   "source": [
    "For maximum values:"
   ]
  },
  {
   "cell_type": "code",
   "execution_count": 17,
   "metadata": {},
   "outputs": [],
   "source": [
    "max_df = df.groupby(\"class\").max().transpose() "
   ]
  },
  {
   "cell_type": "markdown",
   "metadata": {},
   "source": [
    "After calculating basic statistics, it is beneficial to create visualizations and graphs that help to understand the shape and distribution of the data."
   ]
  },
  {
   "cell_type": "markdown",
   "metadata": {},
   "source": [
    "***"
   ]
  },
  {
   "cell_type": "markdown",
   "metadata": {},
   "source": [
    "## Data visualization"
   ]
  },
  {
   "cell_type": "markdown",
   "metadata": {},
   "source": [
    "For this part we are going to use the functionalities offered by the matplotib and seaborn libraries.\n",
    "\n",
    "To know the distribution functions of the variables a histogram can be made with the seaborn library.  \n",
    "1. Sepal length(cm)\n",
    "2. Sepal width(cm)\n",
    "3. Petal length(cm)\n",
    "4. Petal width(cm)\n",
    "5. Class."
   ]
  },
  {
   "cell_type": "markdown",
   "metadata": {},
   "source": [
    "**sepal_length**"
   ]
  },
  {
   "cell_type": "code",
   "execution_count": 18,
   "metadata": {},
   "outputs": [
    {
     "data": {
      "image/png": "[encoded data removed]",
      "text/plain": [
       "<Figure size 640x480 with 1 Axes>"
      ]
     },
     "metadata": {},
     "output_type": "display_data"
    }
   ],
   "source": [
    "# Create a histogram for sepal_length. \n",
    "\n",
    "sns.histplot(df[\"sepal_length\"], kde=True)  # adds an estimate of the kernel density (KDE)\n",
    "plt.xlabel(\"sepal_length\")\n",
    "plt.ylabel(\"Frequency\")\n",
    "plt.title(\"Histogram of the length of sepals\")\n",
    "plt.show()"
   ]
  },
  {
   "cell_type": "markdown",
   "metadata": {},
   "source": [
    "The graph presents a distribution without a fully defined shape.  \n",
    "The skewness coefficient can be applied to define its shape.  \n",
    "\n",
    "The Skewness Coefficient is a statistical measure that describes the skewness of a data distribution with respect to its mean. This measure indicates whether a distribution has heavier tails on one side than on the other.  \n",
    "\n",
    "For unimodal distributions with skewness to the right the coefficient is positive and the distribution is said to be positively skewed or left skewed. Conversely, for unimodal distributions with skewness to the left the coefficient takes a negative value and the distribution is said to be asymmetric negative or to the right."
   ]
  },
  {
   "cell_type": "code",
   "execution_count": 19,
   "metadata": {},
   "outputs": [
    {
     "name": "stdout",
     "output_type": "stream",
     "text": [
      "The Asymmetry Coefficient of sepal_length is: 0.3149109566369728\n"
     ]
    }
   ],
   "source": [
    "sepal_length_skew = df[\"sepal_length\"].skew()\n",
    "print(\"The Asymmetry Coefficient of sepal_length is:\", sepal_length_skew)"
   ]
  },
  {
   "cell_type": "markdown",
   "metadata": {},
   "source": [
    "A skewness coefficient of 0.3149 indicates a slight rightward skewness in the distribution of the sepal length data. This suggests that, although the distribution may resemble a normal distribution in many respects, it is not perfectly symmetrical and normality cannot be concluded."
   ]
  },
  {
   "cell_type": "markdown",
   "metadata": {},
   "source": [
    "**sepal_width**"
   ]
  },
  {
   "cell_type": "code",
   "execution_count": 20,
   "metadata": {},
   "outputs": [
    {
     "data": {
      "image/png": "[encoded data removed]",
      "text/plain": [
       "<Figure size 640x480 with 1 Axes>"
      ]
     },
     "metadata": {},
     "output_type": "display_data"
    }
   ],
   "source": [
    "# Create a histogram for sepal_width. \n",
    "\n",
    "sns.histplot(df[\"sepal_width\"], kde=True)  \n",
    "plt.xlabel(\"sepal_width\")\n",
    "plt.ylabel(\"Frequency\")\n",
    "plt.title(\"Histogram of the width of sepals\")\n",
    "plt.show()"
   ]
  },
  {
   "cell_type": "markdown",
   "metadata": {},
   "source": [
    "In this graph, both the bins and the kernel density estimate (KDE) clearly suggest a normal distribution function, since the values are concentrated in the middle.\n",
    "The kurtosis is used to find out how close the collected data of a variable is to its mean value.  \n",
    "\n",
    "The value 0 is used as a reference point for comparing the kurtosis with the standard normal distribution because it facilitates the relative interpretation of how other distributions deviate from the ideal form of the standard normal distribution.\n",
    "\n",
    "Depending on the degree of concentration, we can say that there are 3 types of kurtosis:\n",
    " \n",
    "1. Leptokurtic: the values are highly concentrated around their mean. Kurtosis > 0\n",
    "2. Mesokurtic: the values are regularly concentrated around their mean. In other words, our data set resembles a normal distribution. Kurtosis = 0\n",
    "3. Platykurtic: the values are little concentrated around their mean. Kurtosis < 0"
   ]
  },
  {
   "cell_type": "code",
   "execution_count": 21,
   "metadata": {},
   "outputs": [
    {
     "name": "stdout",
     "output_type": "stream",
     "text": [
      "The kurtosis is: 0.2907810623654279\n"
     ]
    }
   ],
   "source": [
    "sepal_width_kurtosis = df[\"sepal_width\"].kurtosis()\n",
    "print(\"The kurtosis is:\",sepal_width_kurtosis)"
   ]
  },
  {
   "cell_type": "markdown",
   "metadata": {},
   "source": [
    "Having a normal distribution with a kurtosis of 0.2907, since this value is greater than 0, it is considered leptokurtic. This means that the distribution has heavier tails and a higher peak compared to the standard normal distribution."
   ]
  },
  {
   "cell_type": "markdown",
   "metadata": {},
   "source": [
    "**petal_length**"
   ]
  },
  {
   "cell_type": "code",
   "execution_count": 22,
   "metadata": {},
   "outputs": [
    {
     "data": {
      "image/png": "[encoded data removed]",
      "text/plain": [
       "<Figure size 640x480 with 1 Axes>"
      ]
     },
     "metadata": {},
     "output_type": "display_data"
    }
   ],
   "source": [
    "# Create a histogram for sepal_length. \n",
    "\n",
    "sns.histplot(df[\"petal_length\"], kde=True) \n",
    "plt.xlabel(\"petal_length\")\n",
    "plt.ylabel(\"Frequency\")\n",
    "plt.title(\"Histogram of the length of sepal\")\n",
    "plt.show()"
   ]
  },
  {
   "cell_type": "markdown",
   "metadata": {},
   "source": [
    "The graph suggests that this is a multimodal distribution, and since it has two peaks or modes, it is an asymmetric bimodal.\n",
    "\n",
    "A bimodal distribution is a specific type of data distribution in which there are two distinct modes or peaks in the distribution.  \n",
    "This means that the data have two values or ranges of values around which they are most frequently concentrated.\n",
    "\n",
    "**petal_width**"
   ]
  },
  {
   "cell_type": "code",
   "execution_count": 23,
   "metadata": {},
   "outputs": [
    {
     "data": {
      "image/png": "[encoded data removed]",
      "text/plain": [
       "<Figure size 640x480 with 1 Axes>"
      ]
     },
     "metadata": {},
     "output_type": "display_data"
    }
   ],
   "source": [
    "# Create a histogram for petal_width. \n",
    "\n",
    "sns.histplot(df[\"petal_width\"], kde=True)  \n",
    "plt.xlabel(\"petal_width\")\n",
    "plt.ylabel(\"Frequency\")\n",
    "plt.title(\"Histogram of the width of petals\")\n",
    "plt.show()"
   ]
  },
  {
   "cell_type": "markdown",
   "metadata": {},
   "source": [
    "As in the previous graph, the petal_width variable has a behavior associated with a bimodal distribution."
   ]
  },
  {
   "cell_type": "markdown",
   "metadata": {},
   "source": [
    "**class**\n",
    "\n",
    "For the variable class, a count plot can be thought of as a histogram across a categorical, instead of quantitative, variable.  \n",
    "If it is known that there are 50 flowers of each type, then the plot will show 3 columns of equal height and thickness."
   ]
  },
  {
   "cell_type": "code",
   "execution_count": 24,
   "metadata": {},
   "outputs": [
    {
     "data": {
      "image/png": "[encoded data removed]",
      "text/plain": [
       "<Figure size 640x480 with 1 Axes>"
      ]
     },
     "metadata": {},
     "output_type": "display_data"
    }
   ],
   "source": [
    "# Create a countplot for variable class\n",
    "\n",
    "sns.countplot(data=df, x=\"class\")\n",
    "plt.title(\"Distribution of iris classes\")\n",
    "plt.xlabel(\"classes\")\n",
    "plt.ylabel(\"Frequency\")\n",
    "plt.show()"
   ]
  },
  {
   "cell_type": "markdown",
   "metadata": {},
   "source": [
    "As class is a qualitative variable indicating the species of flower, so it does not fit the characteristics of a typical probability distribution.  \n",
    " A probability density function (PDF) or cumulative distribution function (CDF) cannot be applied directly as in the case of quantitative variables."
   ]
  },
  {
   "cell_type": "markdown",
   "metadata": {},
   "source": [
    "### Correlation"
   ]
  },
  {
   "cell_type": "markdown",
   "metadata": {},
   "source": [
    "Once the different variables have been plotted and their possible distribution functions have been observed, a correlation matrix can be made to see how closely the variables are related to each other.\n",
    "\n",
    "However, this correlation matrix only works using quantitative and not qualitative variables.\n",
    "To check which type each variable belongs to in a data set, you can see the nature of the variables with the type() function."
   ]
  },
  {
   "cell_type": "code",
   "execution_count": 25,
   "metadata": {},
   "outputs": [
    {
     "name": "stdout",
     "output_type": "stream",
     "text": [
      "sepal_length    float64\n",
      "sepal_width     float64\n",
      "petal_length    float64\n",
      "petal_width     float64\n",
      "class            object\n",
      "dtype: object\n"
     ]
    }
   ],
   "source": [
    "print(df.dtypes)"
   ]
  },
  {
   "cell_type": "markdown",
   "metadata": {},
   "source": [
    "Therefore the variable class must be excluded from the correlation matrix."
   ]
  },
  {
   "cell_type": "code",
   "execution_count": 26,
   "metadata": {},
   "outputs": [
    {
     "data": {
      "image/png": "[encoded data removed]",
      "text/plain": [
       "<Figure size 640x480 with 2 Axes>"
      ]
     },
     "metadata": {},
     "output_type": "display_data"
    }
   ],
   "source": [
    "# Select only numeric columns (excluding \"class\")\n",
    "numeric_columns = df.select_dtypes(include=[\"float64\"])\n",
    "\n",
    "# Calculate the correlation matrix\n",
    "correlation_matrix = numeric_columns.corr()\n",
    "\n",
    "# Create a heatmap of the correlation matrix\n",
    "sns.heatmap(correlation_matrix,annot=True, cmap=\"seismic\", fmt=\".2g\")\n",
    "plt.title('Correlation matrix without \"class\"')\n",
    "plt.show()"
   ]
  },
  {
   "cell_type": "markdown",
   "metadata": {},
   "source": [
    "The main diagonal is 1 because it is the intercept of the same variable.  \n",
    "Visually the more red, the more correlation there is, and the more blue, the less.  \n",
    "Moreover, the correlation is an interval between 1 and -1. "
   ]
  },
  {
   "cell_type": "markdown",
   "metadata": {},
   "source": [
    "***"
   ]
  },
  {
   "cell_type": "markdown",
   "metadata": {},
   "source": [
    "## Conclusions of the project"
   ]
  },
  {
   "cell_type": "markdown",
   "metadata": {},
   "source": [
    "The iris data set offers a simple way to import a csv file and test the different libraries and utilities of the python language.  \n",
    "As for the multivariate dataset, despite being a sample composed of only 150 data and 4 attributes, I consider that the possibilities of analysis (linear regression, univariate analysis of each attribute, ANOVA test, Pearson's correlation, logistic regression...) offer a real rabbit hole, as well as endless tools and customisation possibilities.  \n"
   ]
  },
  {
   "cell_type": "markdown",
   "metadata": {},
   "source": [
    "***"
   ]
  },
  {
   "cell_type": "markdown",
   "metadata": {},
   "source": [
    "## References"
   ]
  },
  {
   "cell_type": "markdown",
   "metadata": {},
   "source": [
    "1. Fisher, R.A. (1936). Iris Data Set. UCI Machine Learning Repository. https://archive.ics.uci.edu/dataset/53/iris  \n",
    "2. NumPy Developers. (2005). NumPy. https://numpy.org/  \n",
    "3. Matplotlib development team. (2012). Matplotlib.https://matplotlib.org/  \n",
    "4. Waskom, M. (2012). Seaborn. https://seaborn.pydata.org/  \n",
    "5. McKinney, W. (2008). Pandas. https://pandas.pydata.org/  \n",
    "6. Kariv, A., & Pollock, R. (2018). Irish Data Set. DataHub.io. https://datahub.io/docs/about"
   ]
  }
 ],
 "metadata": {
  "kernelspec": {
   "display_name": "base",
   "language": "python",
   "name": "python3"
  },
  "language_info": {
   "codemirror_mode": {
    "name": "ipython",
    "version": 3
   },
   "file_extension": ".py",
   "mimetype": "text/x-python",
   "name": "python",
   "nbconvert_exporter": "python",
   "pygments_lexer": "ipython3",
   "version": "3.10.13"
  }
 },
 "nbformat": 4,
 "nbformat_minor": 2
}
