{
 "cells": [
  {
   "cell_type": "markdown",
   "metadata": {},
   "source": [
    "# Fundamentals of Data Analysis Project\n",
    "\n",
    "Jaime Lara Carrillo\n",
    "\n",
    "***"
   ]
  },
  {
   "cell_type": "markdown",
   "metadata": {},
   "source": [
    "This jupyter notebook contains the project from the module: Fundamentals of Data Analysis from ATU Galway's HDip in Data Analysis."
   ]
  },
  {
   "cell_type": "markdown",
   "metadata": {},
   "source": [
    "# Iris Fisher Data Set"
   ]
  },
  {
   "cell_type": "markdown",
   "metadata": {},
   "source": [
    "## Index\n",
    "\n",
    "1. [Description](#description)\n",
    "2. [Project stages and organisation](#project-stages-and-organisation)  \n",
    "3. [Used tools and libraries](#used-tools-and-libraries)"
   ]
  },
  {
   "cell_type": "markdown",
   "metadata": {},
   "source": [
    "***"
   ]
  },
  {
   "cell_type": "markdown",
   "metadata": {},
   "source": [
    " ## Description"
   ]
  },
  {
   "cell_type": "markdown",
   "metadata": {},
   "source": [
    "This project consists of analysing and investigating a multivariate dataset introduced\n",
    "by Ronald Fisher in his 1936 paper,_The use of multiple measurements in taxonomic problems_.\n",
    "Although published by Fisher, the data was orignally collected by American botanist, Edgar Anderson,and thats why this is sometimes called Anderson's Iris data set.  \n",
    "Most of the samples where collected on the same day and in the same area (two of the three species).\n",
    "\n",
    "This famous dataset could be the ABC of machine learning and data analysis.  \n",
    "\n",
    "The Iris dataset consists of three species of Iris flowers and 50 samples of each species, giving a sample of a total of 150 records under five attributes, which are:\n",
    "1. Sepal length(cm)\n",
    "2. Sepal width(cm)\n",
    "3. Setal length(cm)\n",
    "4. Petal width(cm)\n",
    "5. Class.\n",
    "\n",
    "The features of this sample are shown in the following image:\n",
    "\n",
    "![image](https://user-images.githubusercontent.com/110190460/234045122-186ab79b-4fbc-4065-ac3e-017c0e1b97ee.png)"
   ]
  },
  {
   "cell_type": "markdown",
   "metadata": {},
   "source": [
    "The species are: Setosa, Versicolor and Virginica.  \n",
    "\n",
    "![image](https://user-images.githubusercontent.com/110190460/234044887-5cf5d38c-8ac7-4846-98d3-bbc213e6f32a.png)"
   ]
  },
  {
   "cell_type": "markdown",
   "metadata": {},
   "source": [
    "This makes it a multivariate data set, which means that there are two or more variable quantities.\n",
    "As can be seen, despite having a similar shade of colour, these flowers have different attributes in terms\n",
    "of the length of their petals and sepals, which in this project are collected in a file with .csv extension, used by the excel spreadsheet."
   ]
  },
  {
   "cell_type": "markdown",
   "metadata": {},
   "source": [
    "***"
   ]
  },
  {
   "cell_type": "markdown",
   "metadata": {},
   "source": [
    "## Project stages and organisation"
   ]
  },
  {
   "cell_type": "markdown",
   "metadata": {},
   "source": [
    "The steps of this project can be divided into the following tasks: \n",
    "* Show which technologies and tools will be used\n",
    "* Obtain the dataset and download it\n",
    "* Import the dataset to the integrated development environment (IDE) \n",
    "* Review the dataset and avoid incorrect or incomplete data\n",
    "* Different statistical analyses of the data obtained\n",
    "* Show graphically the result of the previous analysis\n",
    "* Drawing a conclusion from the research carried out\n",
    "* References used in the elaboration of the project"
   ]
  },
  {
   "cell_type": "markdown",
   "metadata": {},
   "source": [
    "\n",
    "**The project consists of the following files**:  \n",
    "\n",
    "This notebook file contains the entire project, its development and analysis.  \n",
    "The images and the database can be found in the corresponding folders.\n"
   ]
  },
  {
   "cell_type": "markdown",
   "metadata": {},
   "source": [
    "___\n",
    "\n",
    "## Used tools and libraries"
   ]
  },
  {
   "cell_type": "markdown",
   "metadata": {},
   "source": [
    "\n",
    "**The project uses the following technologies**:\n",
    "\n",
    "* Python version 3.9.2 as programming language\n",
    "* Excel spreadsheet for the imported data\n",
    "* Visual Studio Code as the Integrated development environment \n",
    "* Jupyter notebook as the folder which contains all the project"
   ]
  },
  {
   "cell_type": "markdown",
   "metadata": {},
   "source": [
    "**The project uses the following libraries**:"
   ]
  },
  {
   "cell_type": "markdown",
   "metadata": {},
   "source": [
    "numpy\n",
    "pandas\n",
    "matplotlib   ..............."
   ]
  },
  {
   "cell_type": "markdown",
   "metadata": {},
   "source": [
    "___\n",
    "\n",
    "## Data collection"
   ]
  },
  {
   "cell_type": "markdown",
   "metadata": {},
   "source": [
    "To obtain the dataset we can go to the following link:  \n",
    "https://archive.ics.uci.edu/dataset/53/iris  \n",
    "\n",
    "However, the file is in .txt format and it has no header, so a number of transformations have to be made to it.  \n",
    "To simplify things and given the huge popularity of this dataset, you can find the data already with a header  \n",
    "and in a different format, such as csv. An example is in the following link:  \n",
    "https://datahub.io/machine-learning/iris#resource-iris  \n",
    "I used the snake case before importing the data set just to gave a clearer name to the characteristics of each flower.\n",
    "Once downloaded, the iris flower database is saved in the database folder (files\\database\\iris_csv.csv).  "
   ]
  },
  {
   "cell_type": "markdown",
   "metadata": {},
   "source": [
    "***"
   ]
  }
 ],
 "metadata": {
  "kernelspec": {
   "display_name": "base",
   "language": "python",
   "name": "python3"
  },
  "language_info": {
   "name": "python",
   "version": "3.10.13"
  }
 },
 "nbformat": 4,
 "nbformat_minor": 2
}
