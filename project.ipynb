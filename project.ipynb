{
 "cells": [
  {
   "cell_type": "markdown",
   "metadata": {},
   "source": [
    "# Fundamentals of Data Analysis Project\n",
    "\n",
    "Jaime Lara Carrillo\n",
    "\n",
    "***"
   ]
  },
  {
   "cell_type": "markdown",
   "metadata": {},
   "source": [
    "This jupyter notebook contains the project from the module: Fundamentals of Data Analysis from ATU Galway's HDip in Data Analysis."
   ]
  },
  {
   "cell_type": "markdown",
   "metadata": {},
   "source": [
    "# Iris Fisher Data Set"
   ]
  },
  {
   "cell_type": "markdown",
   "metadata": {},
   "source": [
    "## Index\n",
    "\n",
    "1. [Description](#description)\n",
    "2. [Project stages and organisation](#project-stages-and-organisation)"
   ]
  },
  {
   "cell_type": "markdown",
   "metadata": {},
   "source": [
    "***"
   ]
  },
  {
   "cell_type": "markdown",
   "metadata": {},
   "source": [
    " ## Description"
   ]
  },
  {
   "cell_type": "markdown",
   "metadata": {},
   "source": [
    "This project consists of analysing and investigating a multivariate dataset introduced\n",
    "by Ronald Fisher in his 1936 paper,_The use of multiple measurements in taxonomic problems_.\n",
    "Although published by Fisher, the data was orignally collected by American botanist, Edgar Anderson,and thats why this is sometimes called Anderson's Iris data set.  \n",
    "Most of the samples where collected on the same day and in the same area (two of the three species).\n",
    "\n",
    "This famous dataset could be the ABC of machine learning and data analysis.  \n",
    "\n",
    "The Iris dataset consists of three species of Iris flowers and 50 samples of each species, giving a sample of a total of 150 records under five attributes, which are:\n",
    "1. Sepal length(cm)\n",
    "2. Sepal width(cm)\n",
    "3. Setal length(cm)\n",
    "4. Petal width(cm)\n",
    "5. Class.\n",
    "\n",
    "The features of this sample are shown in the following image:\n",
    "\n",
    "![image](https://user-images.githubusercontent.com/110190460/234045122-186ab79b-4fbc-4065-ac3e-017c0e1b97ee.png)"
   ]
  },
  {
   "cell_type": "markdown",
   "metadata": {},
   "source": [
    "The species are: Setosa, Versicolor and Virginica.  \n",
    "\n",
    "![image](https://user-images.githubusercontent.com/110190460/234044887-5cf5d38c-8ac7-4846-98d3-bbc213e6f32a.png)"
   ]
  },
  {
   "cell_type": "markdown",
   "metadata": {},
   "source": [
    "This makes it a multivariate data set, which means that there are two or more variable quantities.\n",
    "As can be seen, despite having a similar shade of colour, these flowers have different attributes in terms\n",
    "of the length of their petals and sepals, which in this project are collected in a file with .csv extension, used by the excel spreadsheet."
   ]
  },
  {
   "cell_type": "markdown",
   "metadata": {},
   "source": [
    "***"
   ]
  },
  {
   "cell_type": "markdown",
   "metadata": {},
   "source": [
    "## Project stages and organisation"
   ]
  }
 ],
 "metadata": {
  "kernelspec": {
   "display_name": "base",
   "language": "python",
   "name": "python3"
  },
  "language_info": {
   "name": "python",
   "version": "3.10.13"
  }
 },
 "nbformat": 4,
 "nbformat_minor": 2
}
